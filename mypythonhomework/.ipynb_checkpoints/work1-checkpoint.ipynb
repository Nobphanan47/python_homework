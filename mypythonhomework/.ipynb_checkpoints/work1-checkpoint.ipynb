{
 "cells": [
  {
   "cell_type": "code",
   "execution_count": 1,
   "id": "eee66256-6188-4798-b8c6-007f605b979c",
   "metadata": {
    "tags": []
   },
   "outputs": [
    {
     "name": "stdout",
     "output_type": "stream",
     "text": [
      "นพนันท์ เกษอินทร์\n"
     ]
    }
   ],
   "source": [
    "print (\"นพนันท์ เกษอินทร์\")"
   ]
  },
  {
   "cell_type": "code",
   "execution_count": null,
   "id": "d1ef835b-1e14-454a-a914-b97946612168",
   "metadata": {},
   "outputs": [],
   "source": []
  }
 ],
 "metadata": {
  "kernelspec": {
   "display_name": "Python 3 (ipykernel)",
   "language": "python",
   "name": "python3"
  },
  "language_info": {
   "codemirror_mode": {
    "name": "ipython",
    "version": 3
   },
   "file_extension": ".py",
   "mimetype": "text/x-python",
   "name": "python",
   "nbconvert_exporter": "python",
   "pygments_lexer": "ipython3",
   "version": "3.11.5"
  }
 },
 "nbformat": 4,
 "nbformat_minor": 5
}
